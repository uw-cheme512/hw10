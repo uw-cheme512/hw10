{
 "cells": [
  {
   "cell_type": "markdown",
   "metadata": {},
   "source": [
    "#### Problem 1 (Morbidelli 9.1 modified)\n",
    "\n",
    "Find the asymptotic expansion of the function $\\ln{(x+\\epsilon)}$ as $\\epsilon \\rightarrow 0$ using the asymptotic sequences $\\epsilon^n, \\sin^0{\\epsilon}, [\\ln{(1 + \\epsilon)}]^n$\n",
    "\n",
    "**Plot each asymptotic expansion with varying values of $\\epsilon$. Compare to the original function. What do you notice about the behavior of each?**"
   ]
  },
  {
   "cell_type": "markdown",
   "metadata": {},
   "source": [
    "#### Problem 2 (Morbidelli 9.8 modified)\n",
    "\n",
    "Solve the diffusion-reaction problem in the case of a non-linear reaction rate expression f(y) using the regular perturbation method:\n",
    "\n",
    "$$\\frac{d^2y}{dx^2} = \\epsilon f(y), y(1)=1, \\frac{dy}{dx}(0)=0 $$\n",
    "\n",
    "**Just solve the first two terms of the asymptotic expansion. Plot the results with varying values of $\\epsilon$ and your choice of f.**"
   ]
  },
  {
   "cell_type": "markdown",
   "metadata": {},
   "source": [
    "#### Problem 3 (Morbidelli 9.9)\n",
    "\n",
    "Find an approximate solution of the system of non-linear ODEs\n",
    "\n",
    "$$\\frac{d^2u}{dx^2} = \\phi^2uv $$\n",
    "$$\\frac{d^2v}{dx^2} = \\phi^2 \\psi uv $$\n",
    "\n",
    "with the BCs\n",
    "\n",
    "$$u=1, \\frac{dv}{dx}=0, x=0 $$\n",
    "$$\\frac{du}{dx}=0, v=1, x=1 $$\n",
    "\n",
    "in the limit where $\\psi <<1$. Establish whether or not the asymptotic expansion is uniform and find an upper bound for the residuals of the equations. Note that the above equations represent the diffusion-reaction problem of two reacting species (u and v) entering from opposite sides of a slab and being fully depleted in it.\n",
    "\n",
    "**Plot v(x) and u(x) while varying $\\epsilon$**.\n",
    "\n",
    "**Hint**: To establish uniformity, demonstrate that as $\\epsilon \\rightarrow \\infty$, the asymptotic expansion approaches the solution to the system of equations if $\\epsilon=0$. To find the upper bound for the residuals, for a given value of $\\psi$, find the upper threshold for $\\epsilon$ where the perturbation solution is no longer valid."
   ]
  },
  {
   "cell_type": "markdown",
   "metadata": {},
   "source": [
    "#### Problem 4 (Morbidelli 9.13)\n",
    "\n",
    "Use the method of matched asymptotic expansions to find the zeroth-order approximation for the solution to the equation\n",
    "\n",
    "$$\\epsilon \\frac{d^2 y}{dx^2} + \\beta \\frac{dy}{dx} = 1, \\beta > 0 $$\n",
    "\n",
    "with BCs\n",
    "\n",
    "$$y = \\alpha, x=0 $$\n",
    "$$y=1, x=1 $$\n",
    "\n",
    "Compare the result with the zeroth-order expansion of the analytical solution."
   ]
  },
  {
   "cell_type": "markdown",
   "metadata": {},
   "source": [
    "#### Problem 5 (Morbidelli 9.20 modified)\n",
    "\n",
    "Find the approximate solution of the third-order differential equation\n",
    "\n",
    "$$\\epsilon \\frac{d^3y}{dx^3} - x^3y = 0$$\n",
    "\n",
    "using the WKB method\n",
    "\n",
    "**Plot the solution with varying values of $\\epsilon$**."
   ]
  },
  {
   "cell_type": "markdown",
   "metadata": {},
   "source": [
    "#### Extra Credit\n",
    "\n",
    "The Rayleigh equation\n",
    "\n",
    "$$\\frac{d^2y}{dt^2} + y + \\epsilon \\bigg[ -\\frac{dy}{dt} + \\frac{1}{3} \\bigg( \\frac{dy}{dt} \\bigg)^3  \\bigg] = 0$$\n",
    "\n",
    "with ICs\n",
    "\n",
    "$$y=a, \\frac{dy}{dt}=0, t=0 $$\n",
    "\n",
    "has only one periodic solution corresponding to a specific value of the initial condition, a. Using the method of strained coordinates, determine the value of a as well as the periodic solution in the limit of small positive $\\epsilon$. Compute the coefficients of the asymptotic expansion up to the $\\epsilon^3$ term. (**Hint**: Expand a as a power series of $\\epsilon$, and compute the coefficients to avoid the occurence of secular terms in the solution, which must be periodic)."
   ]
  },
  {
   "cell_type": "code",
   "execution_count": null,
   "metadata": {},
   "outputs": [],
   "source": []
  }
 ],
 "metadata": {
  "kernelspec": {
   "display_name": "Python 3",
   "language": "python",
   "name": "python3"
  },
  "language_info": {
   "codemirror_mode": {
    "name": "ipython",
    "version": 3
   },
   "file_extension": ".py",
   "mimetype": "text/x-python",
   "name": "python",
   "nbconvert_exporter": "python",
   "pygments_lexer": "ipython3",
   "version": "3.7.2"
  }
 },
 "nbformat": 4,
 "nbformat_minor": 2
}
